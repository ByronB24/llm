{
 "cells": [
  {
   "cell_type": "code",
   "execution_count": 1,
   "id": "5e4466e7",
   "metadata": {},
   "outputs": [],
   "source": [
    "%load_ext autoreload\n",
    "%autoreload 2"
   ]
  },
  {
   "cell_type": "code",
   "execution_count": 6,
   "id": "4e2a9393-7767-488e-a8bf-27c12dca35bd",
   "metadata": {},
   "outputs": [],
   "source": [
    "import os\n",
    "from dotenv import load_dotenv\n",
    "from openai import OpenAI\n",
    "from src.config import OPENAIVARS\n",
    "import json\n",
    "from functools import partial\n",
    "from src.genai_assistance.format_document import llamaindex_format_doc\n",
    "from src.gradio.business_chatbot import business_chat\n",
    "from contracts.business_listings.prompt_contract import ChatPrompts\n",
    "from llama_index.core import VectorStoreIndex\n",
    "from llama_index.core.memory import ChatMemoryBuffer\n",
    "from llama_index.llms.openai import OpenAI\n",
    "from llama_index.core.chat_engine import CondensePlusContextChatEngine\n",
    "import gradio as gr"
   ]
  },
  {
   "cell_type": "code",
   "execution_count": 7,
   "id": "7b87cadb-d513-4303-baee-a37b6f938e4d",
   "metadata": {},
   "outputs": [],
   "source": [
    "load_dotenv(override=True)\n",
    "api_key = os.getenv('OPENAI_API_KEY')"
   ]
  },
  {
   "cell_type": "code",
   "execution_count": 8,
   "id": "019974d9-f3ad-4a8a-b5f9-0a3719aea2d3",
   "metadata": {},
   "outputs": [],
   "source": [
    "openai_model = OPENAIVARS.open_ai_model"
   ]
  },
  {
   "cell_type": "markdown",
   "id": "9b72f4ca",
   "metadata": {},
   "source": [
    "### Define fixed variables"
   ]
  },
  {
   "cell_type": "code",
   "execution_count": 9,
   "id": "239eaa1d",
   "metadata": {},
   "outputs": [],
   "source": [
    "ROOT_DIR = os.path.dirname(os.path.abspath(\"__file__\")) "
   ]
  },
  {
   "cell_type": "markdown",
   "id": "fcae26df",
   "metadata": {},
   "source": [
    "### Read Data"
   ]
  },
  {
   "cell_type": "code",
   "execution_count": 10,
   "id": "27fd4c61",
   "metadata": {},
   "outputs": [],
   "source": [
    "with open( os.path.join(ROOT_DIR, \"data\", \"genai_extracted_info.json\"), \"r\") as f:\n",
    "    genai_augmented_listings_ = json.load(f)  "
   ]
  },
  {
   "cell_type": "code",
   "execution_count": 11,
   "id": "8ccf8f50",
   "metadata": {},
   "outputs": [],
   "source": [
    "vector_store_listings = []\n",
    "\n",
    "for listing in genai_augmented_listings_:\n",
    "    try:\n",
    "        filtered_listing = {k: v for k, v in listing.items() if k != \"raw_content\"}\n",
    "        extracted_info = filtered_listing.get(\"extracted_info\", {})\n",
    "        extracted_info.pop(\"Recommendation\", None)\n",
    "        filtered_listing[\"extracted_info\"] = extracted_info\n",
    "\n",
    "        vector_store_listings.append(filtered_listing)\n",
    "\n",
    "    except KeyError:\n",
    "        print(listing)\n",
    "        pass\n"
   ]
  },
  {
   "cell_type": "markdown",
   "id": "2dd99a1f",
   "metadata": {},
   "source": [
    "## Build List of Documents"
   ]
  },
  {
   "cell_type": "code",
   "execution_count": 12,
   "id": "74f54952",
   "metadata": {},
   "outputs": [],
   "source": [
    "docs = [llamaindex_format_doc(listing) for listing in vector_store_listings]"
   ]
  },
  {
   "cell_type": "markdown",
   "id": "99db390c",
   "metadata": {},
   "source": [
    "## Create Vector Store"
   ]
  },
  {
   "cell_type": "code",
   "execution_count": 13,
   "id": "005e38de",
   "metadata": {},
   "outputs": [],
   "source": [
    "index = VectorStoreIndex.from_documents(docs) # no chunking. Each listing has its own embedding [cleaned content]"
   ]
  },
  {
   "cell_type": "markdown",
   "id": "a4dfea8e",
   "metadata": {},
   "source": [
    "## Set up chatbot components"
   ]
  },
  {
   "cell_type": "code",
   "execution_count": null,
   "id": "b3a989a0",
   "metadata": {},
   "outputs": [],
   "source": [
    "llm = OpenAI(model=openai_model, temperature=0,streaming = True)\n",
    "\n",
    "retriever = index.as_retriever(similarity_top_k=100)\n",
    "\n",
    "memory = ChatMemoryBuffer.from_defaults(token_limit=1000)\n",
    "\n",
    "chat_engine = CondensePlusContextChatEngine.from_defaults(\n",
    "    retriever=retriever,\n",
    "    llm=llm,\n",
    "    memory=memory,\n",
    "    system_prompt=ChatPrompts.CHATBOT_SYSTEM_PROMPT)"
   ]
  },
  {
   "cell_type": "markdown",
   "id": "456def82",
   "metadata": {},
   "source": [
    "## Chatbot"
   ]
  },
  {
   "cell_type": "code",
   "execution_count": 40,
   "id": "24cfcb8c",
   "metadata": {},
   "outputs": [
    {
     "name": "stderr",
     "output_type": "stream",
     "text": [
      "c:\\Users\\marce\\anaconda3\\envs\\llms\\Lib\\site-packages\\gradio\\components\\chatbot.py:288: UserWarning: The 'tuples' format for chatbot messages is deprecated and will be removed in a future version of Gradio. Please set type='messages' instead, which uses openai-style 'role' and 'content' keys.\n",
      "  warnings.warn(\n"
     ]
    },
    {
     "name": "stdout",
     "output_type": "stream",
     "text": [
      "* Running on local URL:  http://127.0.0.1:7866\n",
      "\n",
      "To create a public link, set `share=True` in `launch()`.\n"
     ]
    },
    {
     "data": {
      "text/html": [
       "<div><iframe src=\"http://127.0.0.1:7866/\" width=\"100%\" height=\"500\" allow=\"autoplay; camera; microphone; clipboard-read; clipboard-write;\" frameborder=\"0\" allowfullscreen></iframe></div>"
      ],
      "text/plain": [
       "<IPython.core.display.HTML object>"
      ]
     },
     "metadata": {},
     "output_type": "display_data"
    },
    {
     "data": {
      "text/plain": []
     },
     "execution_count": 40,
     "metadata": {},
     "output_type": "execute_result"
    }
   ],
   "source": [
    "iface = gr.ChatInterface(\n",
    "    fn=partial(business_chat, llm_chat_engine=chat_engine),\n",
    "    title=\"Business Advisor Chat\"\n",
    ")\n",
    "\n",
    "iface.launch()\n"
   ]
  }
 ],
 "metadata": {
  "kernelspec": {
   "display_name": "llms",
   "language": "python",
   "name": "python3"
  },
  "language_info": {
   "codemirror_mode": {
    "name": "ipython",
    "version": 3
   },
   "file_extension": ".py",
   "mimetype": "text/x-python",
   "name": "python",
   "nbconvert_exporter": "python",
   "pygments_lexer": "ipython3",
   "version": "3.11.11"
  }
 },
 "nbformat": 4,
 "nbformat_minor": 5
}
