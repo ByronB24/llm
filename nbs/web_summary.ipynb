{
 "cells": [
  {
   "cell_type": "code",
   "execution_count": null,
   "id": "4e2a9393-7767-488e-a8bf-27c12dca35bd",
   "metadata": {},
   "outputs": [],
   "source": [
    "import os\n",
    "from dotenv import load_dotenv\n",
    "from openai import OpenAI\n",
    "from src.web_tasks.single_page_summary import WebsiteContentSummarizer\n",
    "from rich.markdown import Markdown\n",
    "from rich.console import Console"
   ]
  },
  {
   "cell_type": "code",
   "execution_count": 3,
   "id": "7b87cadb-d513-4303-baee-a37b6f938e4d",
   "metadata": {},
   "outputs": [],
   "source": [
    "load_dotenv(override=True)\n",
    "api_key = os.getenv('OPENAI_API_KEY')"
   ]
  },
  {
   "cell_type": "code",
   "execution_count": 4,
   "id": "019974d9-f3ad-4a8a-b5f9-0a3719aea2d3",
   "metadata": {},
   "outputs": [],
   "source": [
    "openai = OpenAI()\n",
    "openai_model = \"gpt-4o-mini\""
   ]
  },
  {
   "cell_type": "code",
   "execution_count": 5,
   "id": "2ef960cf-6dc2-4cda-afb3-b38be12f4c97",
   "metadata": {},
   "outputs": [],
   "source": [
    "summariser = WebsiteContentSummarizer(\"https://dirttrackriders.co.uk/about\",openai,openai_model)\n",
    "\n",
    "system_prompt = \"You are an assistant that analyses the contents of a website\\n \\\n",
    "and provides a comprehensive summary, ignoring text that might be navigation related. \\\n",
    "Respond in markdown.\"\n",
    "\n",
    "user_prompt = (\"The contents of this website is as follows;\\n\"\n",
    "                \"please provide a short summary of this website in markdown.\\n\"\n",
    "                \"If it includes news or announcements, then summarize these too. \\n\\n\"\n",
    "                \"Finish the response with an encouraging message to relevant audience on why they should check out the website.\\n\" )\n"
   ]
  },
  {
   "cell_type": "code",
   "execution_count": 6,
   "id": "bf9db895",
   "metadata": {},
   "outputs": [
    {
     "name": "stderr",
     "output_type": "stream",
     "text": [
      "INFO:httpx:HTTP Request: POST https://api.openai.com/v1/chat/completions \"HTTP/1.1 200 OK\"\n"
     ]
    },
    {
     "data": {
      "text/html": [
       "<pre style=\"white-space:pre;overflow-x:auto;line-height:normal;font-family:Menlo,'DejaVu Sans Mono',consolas,'Courier New',monospace\">┏━━━━━━━━━━━━━━━━━━━━━━━━━━━━━━━━━━━━━━━━━━━━━━━━━━━━━━━━━━━━━━━━━━━━━━━━━━━━━━━━━━━━━━━━━━━━━━━━━━━━━━━━━━━━━━━━━┓\n",
       "┃                        <span style=\"font-weight: bold\">Summary of 'Learn about Dirt Track Racing in the UK. Flat Track'</span>                         ┃\n",
       "┗━━━━━━━━━━━━━━━━━━━━━━━━━━━━━━━━━━━━━━━━━━━━━━━━━━━━━━━━━━━━━━━━━━━━━━━━━━━━━━━━━━━━━━━━━━━━━━━━━━━━━━━━━━━━━━━━━┛\n",
       "\n",
       "The website provides comprehensive information about flat track racing in the UK, focusing on the Dirt Track Riders\n",
       "Association (DTRA), which has been organizing championships since 2005. The UK flat track scene is described as    \n",
       "vibrant and growing, with an increasing number of new riders and bikes entering the sport each year. Races         \n",
       "primarily occur on speedway tracks, featuring 12 riders in three lines, with races lasting between six to fifteen  \n",
       "laps.                                                                                                              \n",
       "\n",
       "The DTRA caters to racers of different levels, particularly highlighting their Pro class, which features top UK    \n",
       "riders who compete at international standards. The site emphasizes affordability, as club membership and race entry\n",
       "costs are kept low to encourage broader participation. It also notes that many riders can race an entire season    \n",
       "using only one rear tyre, minimizing expenses.                                                                     \n",
       "\n",
       "The community aspect of the DTRA is underscored through testimonials from current members who praise the fun,      \n",
       "friendships, and skills gained through participation.                                                              \n",
       "\n",
       "\n",
       "                                                 <span style=\"font-weight: bold; text-decoration: underline\">Encouraging Note</span>                                                  \n",
       "\n",
       "If you have an interest in motorcycle racing or are looking to get involved, this website is an excellent resource \n",
       "to learn about the exciting world of dirt track racing in the UK. Whether you're a potential rider or a spectator, \n",
       "there's plenty of information to help you get started and enjoy this thrilling sport! Check it out and join the    \n",
       "community!                                                                                                         \n",
       "</pre>\n"
      ],
      "text/plain": [
       "┏━━━━━━━━━━━━━━━━━━━━━━━━━━━━━━━━━━━━━━━━━━━━━━━━━━━━━━━━━━━━━━━━━━━━━━━━━━━━━━━━━━━━━━━━━━━━━━━━━━━━━━━━━━━━━━━━━┓\n",
       "┃                        \u001b[1mSummary of 'Learn about Dirt Track Racing in the UK. Flat Track'\u001b[0m                         ┃\n",
       "┗━━━━━━━━━━━━━━━━━━━━━━━━━━━━━━━━━━━━━━━━━━━━━━━━━━━━━━━━━━━━━━━━━━━━━━━━━━━━━━━━━━━━━━━━━━━━━━━━━━━━━━━━━━━━━━━━━┛\n",
       "\n",
       "The website provides comprehensive information about flat track racing in the UK, focusing on the Dirt Track Riders\n",
       "Association (DTRA), which has been organizing championships since 2005. The UK flat track scene is described as    \n",
       "vibrant and growing, with an increasing number of new riders and bikes entering the sport each year. Races         \n",
       "primarily occur on speedway tracks, featuring 12 riders in three lines, with races lasting between six to fifteen  \n",
       "laps.                                                                                                              \n",
       "\n",
       "The DTRA caters to racers of different levels, particularly highlighting their Pro class, which features top UK    \n",
       "riders who compete at international standards. The site emphasizes affordability, as club membership and race entry\n",
       "costs are kept low to encourage broader participation. It also notes that many riders can race an entire season    \n",
       "using only one rear tyre, minimizing expenses.                                                                     \n",
       "\n",
       "The community aspect of the DTRA is underscored through testimonials from current members who praise the fun,      \n",
       "friendships, and skills gained through participation.                                                              \n",
       "\n",
       "\n",
       "                                                 \u001b[1;4mEncouraging Note\u001b[0m                                                  \n",
       "\n",
       "If you have an interest in motorcycle racing or are looking to get involved, this website is an excellent resource \n",
       "to learn about the exciting world of dirt track racing in the UK. Whether you're a potential rider or a spectator, \n",
       "there's plenty of information to help you get started and enjoy this thrilling sport! Check it out and join the    \n",
       "community!                                                                                                         \n"
      ]
     },
     "metadata": {},
     "output_type": "display_data"
    }
   ],
   "source": [
    "summary = summariser.summarize(system_prompt, user_prompt)\n",
    "console = Console()\n",
    "console.print(Markdown(summary))"
   ]
  },
  {
   "cell_type": "code",
   "execution_count": null,
   "id": "7a0c86f6",
   "metadata": {},
   "outputs": [],
   "source": []
  }
 ],
 "metadata": {
  "kernelspec": {
   "display_name": "llms",
   "language": "python",
   "name": "python3"
  },
  "language_info": {
   "codemirror_mode": {
    "name": "ipython",
    "version": 3
   },
   "file_extension": ".py",
   "mimetype": "text/x-python",
   "name": "python",
   "nbconvert_exporter": "python",
   "pygments_lexer": "ipython3",
   "version": "3.11.11"
  }
 },
 "nbformat": 4,
 "nbformat_minor": 5
}
