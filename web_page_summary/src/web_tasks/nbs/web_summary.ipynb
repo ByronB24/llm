{
 "cells": [
  {
   "cell_type": "code",
   "execution_count": 1,
   "id": "4e2a9393-7767-488e-a8bf-27c12dca35bd",
   "metadata": {},
   "outputs": [],
   "source": [
    "import os\n",
    "from dotenv import load_dotenv\n",
    "from openai import OpenAI\n",
    "# from web_page_summary.src.web_tasks.single_site_summary import WebsiteContentSummarizer\n",
    "from web_page_summary.src.web_tasks.single_site_summary_v2 import WebsiteContentSummarizer\n",
    "from rich.markdown import Markdown\n",
    "from rich.console import Console"
   ]
  },
  {
   "cell_type": "code",
   "execution_count": 2,
   "id": "7b87cadb-d513-4303-baee-a37b6f938e4d",
   "metadata": {},
   "outputs": [],
   "source": [
    "load_dotenv(override=True)\n",
    "api_key = os.getenv('OPENAI_API_KEY')"
   ]
  },
  {
   "cell_type": "code",
   "execution_count": 3,
   "id": "019974d9-f3ad-4a8a-b5f9-0a3719aea2d3",
   "metadata": {},
   "outputs": [],
   "source": [
    "openai = OpenAI()\n",
    "openai_model = \"gpt-4o-mini\""
   ]
  },
  {
   "cell_type": "code",
   "execution_count": 9,
   "id": "2ef960cf-6dc2-4cda-afb3-b38be12f4c97",
   "metadata": {},
   "outputs": [],
   "source": [
    "summariser = WebsiteContentSummarizer(\"https://dirttrackriders.co.uk/about\",openai,openai_model)\n",
    "\n",
    "system_prompt = \"You are an assistant that analyses the contents of a website\\n \\\n",
    "and provides a comprehensive summary, ignoring text that might be navigation related. \\\n",
    "Respond in markdown.\"\n",
    "\n",
    "user_prompt = (\"The contents of this website is as follows;\\n\"\n",
    "                \"please provide a short summary of this website in markdown.\\n\"\n",
    "                \"If it includes news or announcements, then summarize these too. \\n\\n\"\n",
    "                \"Finish the response with an encouraging message to relevant audience on why they should check out the website.\\n\" )\n"
   ]
  },
  {
   "cell_type": "code",
   "execution_count": null,
   "id": "bf9db895",
   "metadata": {},
   "outputs": [
    {
     "name": "stderr",
     "output_type": "stream",
     "text": [
      "INFO:httpx:HTTP Request: POST https://api.openai.com/v1/chat/completions \"HTTP/1.1 200 OK\"\n"
     ]
    },
    {
     "data": {
      "text/html": [
       "<pre style=\"white-space:pre;overflow-x:auto;line-height:normal;font-family:Menlo,'DejaVu Sans Mono',consolas,'Courier New',monospace\">┏━━━━━━━━━━━━━━━━━━━━━━━━━━━━━━━━━━━━━━━━━━━━━━━━━━━━━━━━━━━━━━━━━━━━━━━━━━━━━━━━━━━━━━━━━━━━━━━━━━━━━━━━━━━━━━━━━┓\n",
       "┃                        <span style=\"font-weight: bold\">Summary of 'Learn about Dirt Track Racing in the UK. Flat Track'</span>                         ┃\n",
       "┗━━━━━━━━━━━━━━━━━━━━━━━━━━━━━━━━━━━━━━━━━━━━━━━━━━━━━━━━━━━━━━━━━━━━━━━━━━━━━━━━━━━━━━━━━━━━━━━━━━━━━━━━━━━━━━━━━┛\n",
       "\n",
       "The website is dedicated to the <span style=\"font-weight: bold\">Dirt Track Riders Association (DTRA)</span>, which has been promoting <span style=\"font-weight: bold\">flat track racing</span> in\n",
       "the UK since 2005. It showcases the growth of this sport, attracting new riders and featuring a diverse range of   \n",
       "events primarily held on speedway tracks and horse trotting tracks. The races typically involve 12 riders competing\n",
       "in groups, with race durations ranging from six to fifteen laps.                                                   \n",
       "\n",
       "Key highlights include:                                                                                            \n",
       "\n",
       "<span style=\"color: #808000; text-decoration-color: #808000; font-weight: bold\"> • </span><span style=\"font-weight: bold\">Community and Fun</span>: Testimonials from riders emphasize the welcoming atmosphere of the DTRA and the camaraderie  \n",
       "<span style=\"color: #808000; text-decoration-color: #808000; font-weight: bold\">   </span>among racers.                                                                                                   \n",
       "<span style=\"color: #808000; text-decoration-color: #808000; font-weight: bold\"> • </span><span style=\"font-weight: bold\">Pro Class</span>: The Pro class features top UK flat track racers, competing at high standards and often representing  \n",
       "<span style=\"color: #808000; text-decoration-color: #808000; font-weight: bold\">   </span>the UK in international competitions.                                                                           \n",
       "<span style=\"color: #808000; text-decoration-color: #808000; font-weight: bold\"> • </span><span style=\"font-weight: bold\">Affordability</span>: The association aims to keep membership and race entry costs low to foster participation in the  \n",
       "<span style=\"color: #808000; text-decoration-color: #808000; font-weight: bold\">   </span>sport, with riders able to compete at a low cost.                                                               \n",
       "<span style=\"color: #808000; text-decoration-color: #808000; font-weight: bold\"> • </span><span style=\"font-weight: bold\">Accessibility</span>: Many races are free to spectators, encouraging community engagement.                             \n",
       "\n",
       "\n",
       "                                               <span style=\"font-weight: bold; text-decoration: underline\">News &amp; Announcements</span>                                                \n",
       "\n",
       "While the website does not feature specific news items or announcements, it mentions that the 2025 race calendar   \n",
       "can be found on the 'ENTER A RACE' page, indicating upcoming events and opportunities for participation.           \n",
       "\n",
       "<span style=\"color: #808000; text-decoration-color: #808000\">───────────────────────────────────────────────────────────────────────────────────────────────────────────────────</span>\n",
       "<span style=\"font-weight: bold\">Encouraging Message</span>: If you're intrigued by the thrill of dirt track racing or looking for a new community to join,\n",
       "be sure to check out the DTRA's website! Whether you're a rider or a spectator, there's something for everyone in  \n",
       "this vibrant sport. Join the excitement and see you at the races!                                                  \n",
       "</pre>\n"
      ],
      "text/plain": [
       "┏━━━━━━━━━━━━━━━━━━━━━━━━━━━━━━━━━━━━━━━━━━━━━━━━━━━━━━━━━━━━━━━━━━━━━━━━━━━━━━━━━━━━━━━━━━━━━━━━━━━━━━━━━━━━━━━━━┓\n",
       "┃                        \u001b[1mSummary of 'Learn about Dirt Track Racing in the UK. Flat Track'\u001b[0m                         ┃\n",
       "┗━━━━━━━━━━━━━━━━━━━━━━━━━━━━━━━━━━━━━━━━━━━━━━━━━━━━━━━━━━━━━━━━━━━━━━━━━━━━━━━━━━━━━━━━━━━━━━━━━━━━━━━━━━━━━━━━━┛\n",
       "\n",
       "The website is dedicated to the \u001b[1mDirt Track Riders Association (DTRA)\u001b[0m, which has been promoting \u001b[1mflat track racing\u001b[0m in\n",
       "the UK since 2005. It showcases the growth of this sport, attracting new riders and featuring a diverse range of   \n",
       "events primarily held on speedway tracks and horse trotting tracks. The races typically involve 12 riders competing\n",
       "in groups, with race durations ranging from six to fifteen laps.                                                   \n",
       "\n",
       "Key highlights include:                                                                                            \n",
       "\n",
       "\u001b[1;33m • \u001b[0m\u001b[1mCommunity and Fun\u001b[0m: Testimonials from riders emphasize the welcoming atmosphere of the DTRA and the camaraderie  \n",
       "\u001b[1;33m   \u001b[0mamong racers.                                                                                                   \n",
       "\u001b[1;33m • \u001b[0m\u001b[1mPro Class\u001b[0m: The Pro class features top UK flat track racers, competing at high standards and often representing  \n",
       "\u001b[1;33m   \u001b[0mthe UK in international competitions.                                                                           \n",
       "\u001b[1;33m • \u001b[0m\u001b[1mAffordability\u001b[0m: The association aims to keep membership and race entry costs low to foster participation in the  \n",
       "\u001b[1;33m   \u001b[0msport, with riders able to compete at a low cost.                                                               \n",
       "\u001b[1;33m • \u001b[0m\u001b[1mAccessibility\u001b[0m: Many races are free to spectators, encouraging community engagement.                             \n",
       "\n",
       "\n",
       "                                               \u001b[1;4mNews & Announcements\u001b[0m                                                \n",
       "\n",
       "While the website does not feature specific news items or announcements, it mentions that the 2025 race calendar   \n",
       "can be found on the 'ENTER A RACE' page, indicating upcoming events and opportunities for participation.           \n",
       "\n",
       "\u001b[33m───────────────────────────────────────────────────────────────────────────────────────────────────────────────────\u001b[0m\n",
       "\u001b[1mEncouraging Message\u001b[0m: If you're intrigued by the thrill of dirt track racing or looking for a new community to join,\n",
       "be sure to check out the DTRA's website! Whether you're a rider or a spectator, there's something for everyone in  \n",
       "this vibrant sport. Join the excitement and see you at the races!                                                  \n"
      ]
     },
     "metadata": {},
     "output_type": "display_data"
    }
   ],
   "source": [
    "summary = summariser.summarize(system_prompt, user_prompt)\n",
    "console = Console()\n",
    "console.print(Markdown(summary))"
   ]
  },
  {
   "cell_type": "code",
   "execution_count": null,
   "id": "7a0c86f6",
   "metadata": {},
   "outputs": [],
   "source": []
  }
 ],
 "metadata": {
  "kernelspec": {
   "display_name": "llms",
   "language": "python",
   "name": "python3"
  },
  "language_info": {
   "codemirror_mode": {
    "name": "ipython",
    "version": 3
   },
   "file_extension": ".py",
   "mimetype": "text/x-python",
   "name": "python",
   "nbconvert_exporter": "python",
   "pygments_lexer": "ipython3",
   "version": "3.11.11"
  }
 },
 "nbformat": 4,
 "nbformat_minor": 5
}
